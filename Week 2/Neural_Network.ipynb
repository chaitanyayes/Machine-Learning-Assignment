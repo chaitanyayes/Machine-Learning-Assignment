{
 "cells": [
  {
   "cell_type": "code",
   "execution_count": 126,
   "metadata": {
    "executionInfo": {
     "elapsed": 593,
     "status": "ok",
     "timestamp": 1720276369873,
     "user": {
      "displayName": "T Roy",
      "userId": "03346487709597720736"
     },
     "user_tz": -330
    },
    "id": "SzqjA6jbG-dW"
   },
   "outputs": [],
   "source": [
    "import tensorflow as tf\n",
    "from tensorflow import keras\n",
    "from tensorflow.keras.layers import Dense,Flatten\n",
    "from tensorflow.keras import Input"
   ]
  },
  {
   "cell_type": "code",
   "execution_count": 127,
   "metadata": {
    "colab": {
     "base_uri": "https://localhost:8080/"
    },
    "executionInfo": {
     "elapsed": 759,
     "status": "ok",
     "timestamp": 1720276507396,
     "user": {
      "displayName": "T Roy",
      "userId": "03346487709597720736"
     },
     "user_tz": -330
    },
    "id": "dWOiYzrqIrvB",
    "outputId": "c9fdf06c-b19e-43f6-8401-f891a79ef62b"
   },
   "outputs": [
    {
     "name": "stdout",
     "output_type": "stream",
     "text": [
      "Found 269 files belonging to 2 classes.\n"
     ]
    }
   ],
   "source": [
    "dataset = tf.keras.preprocessing.image_dataset_from_directory(\"C:/Users/Admin/NeuralNetworkImages\",image_size=(64, 64),label_mode = \"binary\")"
   ]
  },
  {
   "cell_type": "code",
   "execution_count": 128,
   "metadata": {
    "executionInfo": {
     "elapsed": 5,
     "status": "ok",
     "timestamp": 1720276507912,
     "user": {
      "displayName": "T Roy",
      "userId": "03346487709597720736"
     },
     "user_tz": -330
    },
    "id": "RSasTq5wRgPz"
   },
   "outputs": [],
   "source": [
    "train_data = dataset.take(8)\n",
    "test_data = dataset.skip(8)\n",
    "train_data = train_data.cache().shuffle(1000).prefetch(buffer_size=tf.data.AUTOTUNE)\n",
    "test_data = test_data.cache().shuffle(1000).prefetch(buffer_size=tf.data.AUTOTUNE)"
   ]
  },
  {
   "cell_type": "code",
   "execution_count": 129,
   "metadata": {
    "executionInfo": {
     "elapsed": 3,
     "status": "ok",
     "timestamp": 1720276507913,
     "user": {
      "displayName": "T Roy",
      "userId": "03346487709597720736"
     },
     "user_tz": -330
    },
    "id": "yID91aluk8jG"
   },
   "outputs": [],
   "source": [
    "preprocess = tf.keras.Sequential(\n",
    "    [tf.keras.layers.Rescaling(1.0/255.0)] # rescaling factor\n",
    ")\n",
    "model = tf.keras.Sequential()\n",
    "model.add(Input((64,64,3)))\n",
    "model.add(Flatten())\n",
    "model.add(preprocess)\n",
    "model.add(Dense(256, activation='relu'))\n",
    "model.add(Dense(512, activation='relu'))\n",
    "model.add(Dense(128, activation='relu'))\n",
    "model.add(Dense(1, activation='sigmoid'))\n",
    "\n"
   ]
  },
  {
   "cell_type": "code",
   "execution_count": 130,
   "metadata": {
    "executionInfo": {
     "elapsed": 506,
     "status": "ok",
     "timestamp": 1720276514690,
     "user": {
      "displayName": "T Roy",
      "userId": "03346487709597720736"
     },
     "user_tz": -330
    },
    "id": "n8IzestGlVwX"
   },
   "outputs": [],
   "source": [
    "model.compile(optimizer=keras.optimizers.Adam(),\n",
    "              loss = tf.keras.losses.BinaryCrossentropy(from_logits=False), # use tf.keras.losses._______(from_logits = False)  \n",
    "              metrics = ['accuracy'])"
   ]
  },
  {
   "cell_type": "code",
   "execution_count": 131,
   "metadata": {
    "colab": {
     "base_uri": "https://localhost:8080/"
    },
    "executionInfo": {
     "elapsed": 6562,
     "status": "ok",
     "timestamp": 1720276521246,
     "user": {
      "displayName": "T Roy",
      "userId": "03346487709597720736"
     },
     "user_tz": -330
    },
    "id": "MUX7le0zrNKo",
    "outputId": "9f1a778c-d309-4384-fe24-5f2f60fc7d0a"
   },
   "outputs": [
    {
     "name": "stdout",
     "output_type": "stream",
     "text": [
      "Epoch 1/25\n"
     ]
    },
    {
     "name": "stdout",
     "output_type": "stream",
     "text": [
      "8/8 - 4s - 553ms/step - accuracy: 0.5938 - loss: 2.7230 - val_accuracy: 0.4615 - val_loss: 2.6109\n",
      "Epoch 2/25\n",
      "8/8 - 1s - 65ms/step - accuracy: 0.5039 - loss: 1.7193 - val_accuracy: 0.5385 - val_loss: 1.5909\n",
      "Epoch 3/25\n",
      "8/8 - 1s - 64ms/step - accuracy: 0.5391 - loss: 1.0992 - val_accuracy: 0.5385 - val_loss: 0.9965\n",
      "Epoch 4/25\n",
      "8/8 - 1s - 64ms/step - accuracy: 0.6016 - loss: 0.6841 - val_accuracy: 0.5385 - val_loss: 0.6925\n",
      "Epoch 5/25\n",
      "8/8 - 1s - 64ms/step - accuracy: 0.6367 - loss: 0.6414 - val_accuracy: 0.5385 - val_loss: 0.8362\n",
      "Epoch 6/25\n",
      "8/8 - 1s - 64ms/step - accuracy: 0.5938 - loss: 0.6463 - val_accuracy: 0.5385 - val_loss: 0.9240\n",
      "Epoch 7/25\n",
      "8/8 - 1s - 64ms/step - accuracy: 0.6758 - loss: 0.5857 - val_accuracy: 0.6923 - val_loss: 0.7342\n",
      "Epoch 8/25\n",
      "8/8 - 1s - 65ms/step - accuracy: 0.7461 - loss: 0.5433 - val_accuracy: 0.6923 - val_loss: 0.6594\n",
      "Epoch 9/25\n",
      "8/8 - 1s - 65ms/step - accuracy: 0.7617 - loss: 0.4826 - val_accuracy: 0.6923 - val_loss: 0.5305\n",
      "Epoch 10/25\n",
      "8/8 - 1s - 65ms/step - accuracy: 0.7695 - loss: 0.5009 - val_accuracy: 0.6923 - val_loss: 0.5054\n",
      "Epoch 11/25\n",
      "8/8 - 1s - 66ms/step - accuracy: 0.8203 - loss: 0.4040 - val_accuracy: 0.6923 - val_loss: 0.6449\n",
      "Epoch 12/25\n",
      "8/8 - 1s - 88ms/step - accuracy: 0.7812 - loss: 0.4511 - val_accuracy: 0.6923 - val_loss: 0.9198\n",
      "Epoch 13/25\n",
      "8/8 - 1s - 78ms/step - accuracy: 0.7852 - loss: 0.4510 - val_accuracy: 0.6923 - val_loss: 0.5215\n",
      "Epoch 14/25\n",
      "8/8 - 1s - 98ms/step - accuracy: 0.8125 - loss: 0.3837 - val_accuracy: 0.6923 - val_loss: 0.4383\n",
      "Epoch 15/25\n",
      "8/8 - 1s - 64ms/step - accuracy: 0.8594 - loss: 0.3233 - val_accuracy: 0.8462 - val_loss: 0.3235\n",
      "Epoch 16/25\n",
      "8/8 - 1s - 64ms/step - accuracy: 0.8516 - loss: 0.3161 - val_accuracy: 0.7692 - val_loss: 0.3663\n",
      "Epoch 17/25\n",
      "8/8 - 1s - 65ms/step - accuracy: 0.8828 - loss: 0.2994 - val_accuracy: 0.7692 - val_loss: 0.3778\n",
      "Epoch 18/25\n",
      "8/8 - 1s - 66ms/step - accuracy: 0.8164 - loss: 0.4052 - val_accuracy: 0.6923 - val_loss: 0.4018\n",
      "Epoch 19/25\n",
      "8/8 - 1s - 69ms/step - accuracy: 0.8398 - loss: 0.3572 - val_accuracy: 0.6923 - val_loss: 0.3846\n",
      "Epoch 20/25\n",
      "8/8 - 1s - 65ms/step - accuracy: 0.8281 - loss: 0.3847 - val_accuracy: 0.9231 - val_loss: 0.2654\n",
      "Epoch 21/25\n",
      "8/8 - 1s - 63ms/step - accuracy: 0.9102 - loss: 0.2345 - val_accuracy: 1.0000 - val_loss: 0.1466\n",
      "Epoch 22/25\n",
      "8/8 - 1s - 64ms/step - accuracy: 0.9219 - loss: 0.1948 - val_accuracy: 1.0000 - val_loss: 0.0739\n",
      "Epoch 23/25\n",
      "8/8 - 1s - 64ms/step - accuracy: 0.9609 - loss: 0.1064 - val_accuracy: 1.0000 - val_loss: 0.0294\n",
      "Epoch 24/25\n",
      "8/8 - 1s - 64ms/step - accuracy: 0.9766 - loss: 0.0771 - val_accuracy: 1.0000 - val_loss: 0.0496\n",
      "Epoch 25/25\n",
      "8/8 - 1s - 69ms/step - accuracy: 1.0000 - loss: 0.0356 - val_accuracy: 1.0000 - val_loss: 0.0046\n"
     ]
    },
    {
     "data": {
      "text/plain": [
       "<keras.src.callbacks.history.History at 0x1765483f7d0>"
      ]
     },
     "execution_count": 131,
     "metadata": {},
     "output_type": "execute_result"
    }
   ],
   "source": [
    "model.fit(train_data,\n",
    "          epochs = 25,\n",
    "          batch_size = 32,\n",
    "          verbose=2,\n",
    "          validation_data = test_data)"
   ]
  }
 ],
 "metadata": {
  "accelerator": "GPU",
  "colab": {
   "authorship_tag": "ABX9TyOJKT1vvaSEPBbFKaqp78uD",
   "gpuType": "T4",
   "provenance": []
  },
  "kernelspec": {
   "display_name": "Python 3 (ipykernel)",
   "language": "python",
   "name": "python3"
  },
  "language_info": {
   "codemirror_mode": {
    "name": "ipython",
    "version": 3
   },
   "file_extension": ".py",
   "mimetype": "text/x-python",
   "name": "python",
   "nbconvert_exporter": "python",
   "pygments_lexer": "ipython3",
   "version": "3.12.3"
  }
 },
 "nbformat": 4,
 "nbformat_minor": 4
}
