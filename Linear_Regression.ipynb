{
 "cells": [
  {
   "cell_type": "code",
   "execution_count": 18,
   "metadata": {},
   "outputs": [],
   "source": [
    "import numpy as np\n",
    "import pandas as pd\n",
    "import matplotlib.pyplot as plt\n",
    "\n",
    "# Aim is to predict the marks of students of the test data"
   ]
  },
  {
   "cell_type": "code",
   "execution_count": 19,
   "metadata": {},
   "outputs": [],
   "source": [
    "# Use the file namd 'training data' to train the model\n",
    "\n",
    "data = pd.read_excel('Training data.xlsx')\n",
    "x_train = np.array(data.iloc[:,0:8])\n",
    "y_train = np.array(data.iloc[:,8]).reshape(-1,1)\n",
    "\n",
    "# Try plotting y_train with different features\n",
    "# To get an idea whether to add some features or not\n",
    "# Add some features if required in x_train\n",
    "\n",
    "# Also do label encoding for features not represented in numbers\n",
    "# refer the link if not know : https://youtu.be/589nCGeWG1w?si=t2Wa7LgbUOO4RooM\n",
    "\n",
    "\n",
    "\n",
    "\n"
   ]
  },
  {
   "cell_type": "code",
   "execution_count": 20,
   "metadata": {},
   "outputs": [],
   "source": [
    "\n",
    "def feature_changing(x_train):\n",
    "  #label encoding\n",
    "  n=x_train.shape[0]\n",
    "  for i in range(n):\n",
    "    if x_train[i,0]=='no':\n",
    "        x_train[i,0]=0\n",
    "    else:\n",
    "        x_train[i,0]=1\n",
    "        \n",
    "  for i in range(n):\n",
    "    if x_train[i,1]=='F':\n",
    "        x_train[i,1]=0\n",
    "    else:\n",
    "        x_train[i,1]=1\n",
    " \n",
    "\n",
    "  return x_train\n",
    "\n",
    "x_train = feature_changing(x_train)\n"
   ]
  },
  {
   "cell_type": "code",
   "execution_count": 21,
   "metadata": {},
   "outputs": [],
   "source": [
    "def z_score(x_train):\n",
    "\n",
    "  #changing features\n",
    "  m=x_train.shape[1]\n",
    "  x_std=np.zeros(m)\n",
    "  x_mean=np.zeros(m)\n",
    "  for j in range(m): \n",
    "      sigma= np.std(x_train[:,j])   \n",
    "      mu=np.mean(x_train[:,j])\n",
    "      x_std[j]=x_std[j]+sigma\n",
    "      x_mean[j]=x_mean[j]+mu\n",
    "      for i in range(1000):\n",
    "         x_train[i,j]=(x_train[i,j]-mu)/sigma\n",
    "\n",
    "  return x_train,x_std,x_mean\n",
    "\n"
   ]
  },
  {
   "cell_type": "markdown",
   "metadata": {},
   "source": [
    "#COST FUNCTION\n"
   ]
  },
  {
   "cell_type": "code",
   "execution_count": 22,
   "metadata": {},
   "outputs": [],
   "source": [
    "def cost(x_train,y_train,w,b):\n",
    "\n",
    "  m=x_train.shape[0]\n",
    "  cost=0\n",
    "  for i in range(m):\n",
    "        f_wb=np.dot(x_train[i,:],w)+b\n",
    "        cost=cost+(f_wb-y_train[i])**2\n",
    "  loss=cost/(2*m)\n",
    "  return loss"
   ]
  },
  {
   "cell_type": "code",
   "execution_count": 23,
   "metadata": {},
   "outputs": [],
   "source": [
    "def compute_gradient(X, y, w, b): \n",
    "    \n",
    "    m=X.shape[0]\n",
    "    n=X.shape[1]          #(number of examples, number of features)\n",
    "    dj_dw = np.zeros(n)\n",
    "    dj_db = 0\n",
    "\n",
    "    for i in range(m):                             \n",
    "        error = (np.dot(X[i,:], w) + b) - y[i]   \n",
    "        for j in range(n):                         \n",
    "            dj_dw[j] = dj_dw[j] + error * X[i, j]/m   \n",
    "        dj_db = dj_db + error/m                      \n",
    "  \n",
    "    return dj_dw,dj_db"
   ]
  },
  {
   "cell_type": "markdown",
   "metadata": {},
   "source": [
    "#GRADIENT DESCENTT\n"
   ]
  },
  {
   "cell_type": "code",
   "execution_count": 24,
   "metadata": {},
   "outputs": [],
   "source": [
    "def gradient_descent(x_train,y_train,w,b):\n",
    "    w=w.reshape(8)\n",
    "    dj_dw,dj_db=compute_gradient(x_train,y_train,w,b)\n",
    "    \n",
    "    w=w-0.01*dj_dw\n",
    "    b=b-0.01*dj_db\n",
    "      \n",
    "    return w,b\n"
   ]
  },
  {
   "cell_type": "code",
   "execution_count": 25,
   "metadata": {},
   "outputs": [
    {
     "name": "stderr",
     "output_type": "stream",
     "text": [
      "C:\\Users\\Admin\\AppData\\Local\\Temp\\ipykernel_10112\\4127104884.py:11: DeprecationWarning: Conversion of an array with ndim > 0 to a scalar is deprecated, and will error in future. Ensure you extract a single element from your array before performing this operation. (Deprecated NumPy 1.25.)\n",
      "  dj_dw[j] = dj_dw[j] + error * X[i, j]/m\n"
     ]
    }
   ],
   "source": [
    "x_train = x_train.astype(np.float64)\n",
    "\n",
    "\n",
    "x_train,x_std,x_mean = z_score(x_train)\n",
    "\n",
    "np.random.seed(2147483647)\n",
    "w = np.random.randn(x_train.shape[1])\n",
    "b = np.random.randn(1)\n",
    "\n",
    "old_cost = 0\n",
    "\n",
    "while (abs(old_cost - cost(x_train,y_train,w,b))>0.00001):\n",
    "  old_cost = cost(x_train,y_train,w,b)\n",
    "  \n",
    "  \n",
    "  w,b = gradient_descent(x_train,y_train,w,b)\n",
    " \n",
    " \n",
    "  \n"
   ]
  },
  {
   "cell_type": "code",
   "execution_count": 26,
   "metadata": {},
   "outputs": [
    {
     "name": "stdout",
     "output_type": "stream",
     "text": [
      "Congratulations, your accuracy is 100.0%\n"
     ]
    }
   ],
   "source": [
    "x_predict = pd.read_excel('Test data.xlsx').iloc[:,:8].to_numpy()\n",
    "x_predict = feature_changing(x_predict)\n",
    "x_predict = (x_predict - x_mean)/x_std\n",
    "ans = pd.read_excel('Test data.xlsx').iloc[:,8].to_numpy()\n",
    "\n",
    "y_predict = np.dot(x_predict,w) + b\n",
    "\n",
    "accuracy = 0\n",
    "for dim in range(len(ans)):\n",
    "  if abs(y_predict[dim]-ans[dim])<0.5: # do not change the tolerance as you'll be checked on +- 0.5 error only\n",
    "    accuracy += 1\n",
    "accuracy = round(accuracy*100/200.0,2)\n",
    "ok = 'Congratulations' if accuracy>95 else 'Optimization required'\n",
    "print(f\"{ok}, your accuracy is {accuracy}%\")"
   ]
  }
 ],
 "metadata": {
  "kernelspec": {
   "display_name": "Python 3",
   "language": "python",
   "name": "python3"
  },
  "language_info": {
   "codemirror_mode": {
    "name": "ipython",
    "version": 3
   },
   "file_extension": ".py",
   "mimetype": "text/x-python",
   "name": "python",
   "nbconvert_exporter": "python",
   "pygments_lexer": "ipython3",
   "version": "3.12.3"
  }
 },
 "nbformat": 4,
 "nbformat_minor": 2
}
